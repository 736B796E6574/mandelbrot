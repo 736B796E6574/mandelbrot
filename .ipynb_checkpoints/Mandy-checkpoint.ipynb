{
 "cells": [
  {
   "cell_type": "code",
   "execution_count": 18,
   "id": "0669349a-e33a-40ad-a7d4-67f14a0acf3a",
   "metadata": {},
   "outputs": [],
   "source": [
    "import numpy as np\n",
    "import matplotlib.pyplot as plt"
   ]
  },
  {
   "cell_type": "code",
   "execution_count": 19,
   "id": "2ec17a8f-ba06-4bf3-a7fa-51701ce72063",
   "metadata": {},
   "outputs": [],
   "source": [
    "def mandelbrot(c, max_iter):\n",
    "    z = 0\n",
    "    for n in range(max_iter):\n",
    "        if abs(z) > 2:\n",
    "            return n\n",
    "        z = z*z + c\n",
    "    return max_iter\n"
   ]
  },
  {
   "cell_type": "code",
   "execution_count": 20,
   "id": "5a39c5ba-adab-4ac9-aff7-853fb038166b",
   "metadata": {},
   "outputs": [],
   "source": [
    "def mandelbrot_set(xmin, xmax, ymin, ymax, width, height, max_iter):\n",
    "    x = np.linspace(xmin, xmax, width)\n",
    "    y = np.linspace(ymin, ymax, height)\n",
    "    C = np.array([complex(i, j) for j in y for i in x])\n",
    "    N = np.array([mandelbrot(c, max_iter) for c in C])\n",
    "    N = N.reshape((width, height))\n",
    "    return N.T\n"
   ]
  },
  {
   "cell_type": "code",
   "execution_count": null,
   "id": "2d991a72-b2c3-4745-96b2-a58d18c698bf",
   "metadata": {},
   "outputs": [],
   "source": [
    "xmin, xmax, ymin, ymax = -2.0, 1.0, -1.5, 1.5\n",
    "width, height = 1000, 1000\n",
    "max_iter = 300\n",
    "\n",
    "mandelbrot_image = mandelbrot_set(xmin, xmax, ymin, ymax, width, height, max_iter)\n",
    "\n",
    "plt.figure(figsize=(10, 10))\n",
    "plt.imshow(mandelbrot_image, extent=[xmin, xmax, ymin, ymax], cmap=\"hot\")\n",
    "plt.colorbar()\n",
    "plt.title(\"Mandelbrot Set\")\n",
    "plt.xlabel(\"Re\")\n",
    "plt.ylabel(\"Im\")\n",
    "plt.show()\n"
   ]
  },
  {
   "cell_type": "code",
   "execution_count": null,
   "id": "3addadbe-2b8f-49bf-a5c2-3c7d3395d039",
   "metadata": {},
   "outputs": [],
   "source": []
  }
 ],
 "metadata": {
  "kernelspec": {
   "display_name": "Python 3 (ipykernel)",
   "language": "python",
   "name": "python3"
  },
  "language_info": {
   "codemirror_mode": {
    "name": "ipython",
    "version": 3
   },
   "file_extension": ".py",
   "mimetype": "text/x-python",
   "name": "python",
   "nbconvert_exporter": "python",
   "pygments_lexer": "ipython3",
   "version": "3.12.0"
  }
 },
 "nbformat": 4,
 "nbformat_minor": 5
}
